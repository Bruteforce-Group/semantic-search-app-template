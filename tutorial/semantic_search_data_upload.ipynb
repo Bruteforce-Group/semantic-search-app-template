{
 "cells": [
  {
   "cell_type": "code",
   "execution_count": 1,
   "metadata": {
    "collapsed": true
   },
   "outputs": [
    {
     "name": "stdout",
     "output_type": "stream",
     "text": [
      "Requirement already satisfied: nomic in /home/andriy/PycharmProjects/nomic/nomic (1.0.50)\r\n",
      "Requirement already satisfied: pandas in /home/andriy/PycharmProjects/nomic/nomic/env/lib/python3.8/site-packages (1.4.3)\r\n",
      "Requirement already satisfied: langchain in /home/andriy/PycharmProjects/nomic/nomic/env/lib/python3.8/site-packages (0.0.117)\r\n",
      "Requirement already satisfied: click in /home/andriy/PycharmProjects/nomic/nomic/env/lib/python3.8/site-packages (from nomic) (8.1.3)\r\n",
      "Requirement already satisfied: jsonlines in /home/andriy/PycharmProjects/nomic/nomic/env/lib/python3.8/site-packages (from nomic) (3.1.0)\r\n",
      "Requirement already satisfied: loguru in /home/andriy/PycharmProjects/nomic/nomic/env/lib/python3.8/site-packages (from nomic) (0.6.0)\r\n",
      "Requirement already satisfied: rich in /home/andriy/PycharmProjects/nomic/nomic/env/lib/python3.8/site-packages (from nomic) (12.5.1)\r\n",
      "Requirement already satisfied: requests in /home/andriy/PycharmProjects/nomic/nomic/env/lib/python3.8/site-packages (from nomic) (2.28.1)\r\n",
      "Requirement already satisfied: numpy in /home/andriy/PycharmProjects/nomic/nomic/env/lib/python3.8/site-packages (from nomic) (1.23.1)\r\n",
      "Requirement already satisfied: pydantic in /home/andriy/PycharmProjects/nomic/nomic/env/lib/python3.8/site-packages (from nomic) (1.9.1)\r\n",
      "Requirement already satisfied: wonderwords in /home/andriy/PycharmProjects/nomic/nomic/env/lib/python3.8/site-packages (from nomic) (2.2.0)\r\n",
      "Requirement already satisfied: tqdm in /home/andriy/PycharmProjects/nomic/nomic/env/lib/python3.8/site-packages (from nomic) (4.64.1)\r\n",
      "Requirement already satisfied: cohere in /home/andriy/PycharmProjects/nomic/nomic/env/lib/python3.8/site-packages (from nomic) (2.0.0)\r\n",
      "Requirement already satisfied: pyarrow in /home/andriy/PycharmProjects/nomic/nomic/env/lib/python3.8/site-packages (from nomic) (8.0.0)\r\n",
      "Requirement already satisfied: pytz>=2020.1 in /home/andriy/PycharmProjects/nomic/nomic/env/lib/python3.8/site-packages (from pandas) (2022.1)\r\n",
      "Requirement already satisfied: python-dateutil>=2.8.1 in /home/andriy/PycharmProjects/nomic/nomic/env/lib/python3.8/site-packages (from pandas) (2.8.2)\r\n",
      "Requirement already satisfied: aiohttp<4.0.0,>=3.8.3 in /home/andriy/PycharmProjects/nomic/nomic/env/lib/python3.8/site-packages (from langchain) (3.8.4)\r\n",
      "Requirement already satisfied: dataclasses-json<0.6.0,>=0.5.7 in /home/andriy/PycharmProjects/nomic/nomic/env/lib/python3.8/site-packages (from langchain) (0.5.7)\r\n",
      "Requirement already satisfied: tenacity<9.0.0,>=8.1.0 in /home/andriy/PycharmProjects/nomic/nomic/env/lib/python3.8/site-packages (from langchain) (8.2.2)\r\n",
      "Requirement already satisfied: PyYAML>=5.4.1 in /home/andriy/PycharmProjects/nomic/nomic/env/lib/python3.8/site-packages (from langchain) (6.0)\r\n",
      "Requirement already satisfied: SQLAlchemy<2,>=1 in /home/andriy/PycharmProjects/nomic/nomic/env/lib/python3.8/site-packages (from langchain) (1.4.47)\r\n",
      "Requirement already satisfied: yarl<2.0,>=1.0 in /home/andriy/PycharmProjects/nomic/nomic/env/lib/python3.8/site-packages (from aiohttp<4.0.0,>=3.8.3->langchain) (1.7.2)\r\n",
      "Requirement already satisfied: async-timeout<5.0,>=4.0.0a3 in /home/andriy/PycharmProjects/nomic/nomic/env/lib/python3.8/site-packages (from aiohttp<4.0.0,>=3.8.3->langchain) (4.0.2)\r\n",
      "Requirement already satisfied: frozenlist>=1.1.1 in /home/andriy/PycharmProjects/nomic/nomic/env/lib/python3.8/site-packages (from aiohttp<4.0.0,>=3.8.3->langchain) (1.3.0)\r\n",
      "Requirement already satisfied: charset-normalizer<4.0,>=2.0 in /home/andriy/PycharmProjects/nomic/nomic/env/lib/python3.8/site-packages (from aiohttp<4.0.0,>=3.8.3->langchain) (2.1.0)\r\n",
      "Requirement already satisfied: attrs>=17.3.0 in /home/andriy/PycharmProjects/nomic/nomic/env/lib/python3.8/site-packages (from aiohttp<4.0.0,>=3.8.3->langchain) (21.4.0)\r\n",
      "Requirement already satisfied: aiosignal>=1.1.2 in /home/andriy/PycharmProjects/nomic/nomic/env/lib/python3.8/site-packages (from aiohttp<4.0.0,>=3.8.3->langchain) (1.2.0)\r\n",
      "Requirement already satisfied: multidict<7.0,>=4.5 in /home/andriy/PycharmProjects/nomic/nomic/env/lib/python3.8/site-packages (from aiohttp<4.0.0,>=3.8.3->langchain) (6.0.2)\r\n",
      "Requirement already satisfied: marshmallow<4.0.0,>=3.3.0 in /home/andriy/PycharmProjects/nomic/nomic/env/lib/python3.8/site-packages (from dataclasses-json<0.6.0,>=0.5.7->langchain) (3.19.0)\r\n",
      "Requirement already satisfied: marshmallow-enum<2.0.0,>=1.5.1 in /home/andriy/PycharmProjects/nomic/nomic/env/lib/python3.8/site-packages (from dataclasses-json<0.6.0,>=0.5.7->langchain) (1.5.1)\r\n",
      "Requirement already satisfied: typing-inspect>=0.4.0 in /home/andriy/PycharmProjects/nomic/nomic/env/lib/python3.8/site-packages (from dataclasses-json<0.6.0,>=0.5.7->langchain) (0.8.0)\r\n",
      "Requirement already satisfied: typing-extensions>=3.7.4.3 in /home/andriy/PycharmProjects/nomic/nomic/env/lib/python3.8/site-packages (from pydantic->nomic) (4.3.0)\r\n",
      "Requirement already satisfied: six>=1.5 in /home/andriy/PycharmProjects/nomic/nomic/env/lib/python3.8/site-packages (from python-dateutil>=2.8.1->pandas) (1.16.0)\r\n",
      "Requirement already satisfied: idna<4,>=2.5 in /home/andriy/PycharmProjects/nomic/nomic/env/lib/python3.8/site-packages (from requests->nomic) (2.8)\r\n",
      "Requirement already satisfied: urllib3<1.27,>=1.21.1 in /home/andriy/PycharmProjects/nomic/nomic/env/lib/python3.8/site-packages (from requests->nomic) (1.26.13)\r\n",
      "Requirement already satisfied: certifi>=2017.4.17 in /home/andriy/PycharmProjects/nomic/nomic/env/lib/python3.8/site-packages (from requests->nomic) (2022.6.15)\r\n",
      "Requirement already satisfied: greenlet!=0.4.17 in /home/andriy/PycharmProjects/nomic/nomic/env/lib/python3.8/site-packages (from SQLAlchemy<2,>=1->langchain) (2.0.2)\r\n",
      "Requirement already satisfied: pygments<3.0.0,>=2.6.0 in /home/andriy/PycharmProjects/nomic/nomic/env/lib/python3.8/site-packages (from rich->nomic) (2.14.0)\r\n",
      "Requirement already satisfied: commonmark<0.10.0,>=0.9.0 in /home/andriy/PycharmProjects/nomic/nomic/env/lib/python3.8/site-packages (from rich->nomic) (0.9.1)\r\n",
      "Requirement already satisfied: packaging>=17.0 in /home/andriy/PycharmProjects/nomic/nomic/env/lib/python3.8/site-packages (from marshmallow<4.0.0,>=3.3.0->dataclasses-json<0.6.0,>=0.5.7->langchain) (21.3)\r\n",
      "Requirement already satisfied: mypy-extensions>=0.3.0 in /home/andriy/PycharmProjects/nomic/nomic/env/lib/python3.8/site-packages (from typing-inspect>=0.4.0->dataclasses-json<0.6.0,>=0.5.7->langchain) (0.4.3)\r\n",
      "Requirement already satisfied: pyparsing!=3.0.5,>=2.0.2 in /home/andriy/PycharmProjects/nomic/nomic/env/lib/python3.8/site-packages (from packaging>=17.0->marshmallow<4.0.0,>=3.3.0->dataclasses-json<0.6.0,>=0.5.7->langchain) (3.0.9)\r\n"
     ]
    }
   ],
   "source": [
    "!pip install nomic pandas langchain"
   ]
  },
  {
   "cell_type": "markdown",
   "source": [
    "### Load a demo dataset of 25k news articles"
   ],
   "metadata": {
    "collapsed": false
   }
  },
  {
   "cell_type": "code",
   "execution_count": 2,
   "outputs": [],
   "source": [
    "from nomic import AtlasProject\n",
    "import pandas\n",
    "\n",
    "#load a demo dataset of 25k news articles\n",
    "news_articles = pandas.read_csv('https://raw.githubusercontent.com/nomic-ai/maps/main/data/ag_news_25k.csv').to_dict('records')\n",
    "\n",
    "#use only the first 10k\n",
    "news_articles = news_articles[:10_000]"
   ],
   "metadata": {
    "collapsed": false
   }
  },
  {
   "cell_type": "code",
   "execution_count": 3,
   "outputs": [
    {
     "name": "stdout",
     "output_type": "stream",
     "text": [
      "dict_keys(['id', 'text', 'label'])\n"
     ]
    },
    {
     "name": "stderr",
     "output_type": "stream",
     "text": [
      "2023-03-20 13:53:53.442 | INFO     | nomic.project:__init__:856 - Loading existing project `10k News Articles` from organization `andriy`.\n"
     ]
    }
   ],
   "source": [
    "print(news_articles[0].keys())\n",
    "\n",
    "#create a project in the Atlas Embedding Database.\n",
    "#By specifying modality='embedding' you are saying you will upload your own embeddings.\n",
    "project = AtlasProject(name='10k News Articles', unique_id_field='id', modality='embedding')"
   ],
   "metadata": {
    "collapsed": false
   }
  },
  {
   "cell_type": "code",
   "execution_count": 4,
   "outputs": [],
   "source": [
    "from langchain.embeddings import OpenAIEmbeddings\n",
    "openai_key= ''\n",
    "\n",
    "openai = OpenAIEmbeddings(openai_api_key=openai_key, model='text-embedding-ada-002')\n",
    "# embed the news articles with OpenAI\n",
    "embeddings = openai.embed_documents(texts=[article['text'] for article in news_articles])"
   ],
   "metadata": {
    "collapsed": false
   }
  },
  {
   "cell_type": "code",
   "execution_count": null,
   "outputs": [],
   "source": [
    "import numpy as np\n",
    "\n",
    "#add your OpenAI embeddings and metadata to the Atlas DB project\n",
    "project.add_embeddings(\n",
    "    embeddings=np.array(embeddings),\n",
    "    data=news_articles\n",
    ")\n",
    "project.create_index(name=project.name, build_topic_model=True, topic_label_field='text')\n",
    "print(project.maps[0])"
   ],
   "metadata": {
    "collapsed": false,
    "pycharm": {
     "is_executing": true
    }
   }
  },
  {
   "cell_type": "markdown",
   "source": [
    "By running the next cell, you will be shown the Atlas Embedding DB inspector (Atlas calls it The Map). Points close to each are semantically similar. It is useful for getting an idea of the types of search results your app will serve for any query."
   ],
   "metadata": {
    "collapsed": false
   }
  },
  {
   "cell_type": "code",
   "execution_count": 8,
   "outputs": [
    {
     "data": {
      "text/plain": "10k News Articles: https://atlas.nomic.ai/map/43be8dc7-a9fc-452c-af38-e9b368ca33d6/133d204a-5570-4c58-b4c3-f1b1fc9b409a",
      "text/html": "\n            <h3>Project: 10k News Articles</h3>\n            <script>\n            destroy = function() {\n                document.getElementById(\"iframe133d204a-5570-4c58-b4c3-f1b1fc9b409a\").remove()\n            }\n        </script>\n        <div class=\"actions\">\n            <div id=\"hide\" class=\"action\" onclick=\"destroy()\">Hide embedded project</div>\n            <div class=\"action\" id=\"out\">\n                <a href=\"https://atlas.nomic.ai/map/43be8dc7-a9fc-452c-af38-e9b368ca33d6/133d204a-5570-4c58-b4c3-f1b1fc9b409a\" target=\"_blank\">Explore on atlas.nomic.ai</a>\n            </div>\n        </div>\n        \n        <iframe class=\"iframe\" id=\"iframe133d204a-5570-4c58-b4c3-f1b1fc9b409a\" allow=\"clipboard-read; clipboard-write\" src=\"https://atlas.nomic.ai/map/43be8dc7-a9fc-452c-af38-e9b368ca33d6/133d204a-5570-4c58-b4c3-f1b1fc9b409a\">\n        </iframe>\n\n        <style>\n            .iframe {\n                /* vh can be **very** large in vscode ipynb. */\n                height: min(75vh, 66vw);\n                width: 100%;\n            }\n        </style>\n        \n        <style>\n            .actions {\n              display: block;\n            }\n            .action {\n              min-height: 18px;\n              margin: 5px;\n              transition: all 500ms ease-in-out;\n            }\n            .action:hover {\n              cursor: pointer;\n            }\n            #hide:hover::after {\n                content: \" X\";\n            }\n            #out:hover::after {\n                content: \"\";\n            }\n        </style>\n        \n            "
     },
     "execution_count": 8,
     "metadata": {},
     "output_type": "execute_result"
    }
   ],
   "source": [
    "project.maps[0]"
   ],
   "metadata": {
    "collapsed": false
   }
  },
  {
   "cell_type": "markdown",
   "source": [
    "# Semantic Search in your app\n",
    "To get semantic search running in your app, you need to simply paste your Atlas Embedding DB project name (in this case '10k News Articles') into the settings.py environment variable of the FastAPI app!"
   ],
   "metadata": {
    "collapsed": false
   }
  }
 ],
 "metadata": {
  "kernelspec": {
   "display_name": "Python 3",
   "language": "python",
   "name": "python3"
  },
  "language_info": {
   "codemirror_mode": {
    "name": "ipython",
    "version": 2
   },
   "file_extension": ".py",
   "mimetype": "text/x-python",
   "name": "python",
   "nbconvert_exporter": "python",
   "pygments_lexer": "ipython2",
   "version": "2.7.6"
  }
 },
 "nbformat": 4,
 "nbformat_minor": 0
}
